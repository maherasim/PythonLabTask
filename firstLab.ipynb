{
  "nbformat": 4,
  "nbformat_minor": 0,
  "metadata": {
    "colab": {
      "provenance": []
    },
    "kernelspec": {
      "name": "python3",
      "display_name": "Python 3"
    },
    "language_info": {
      "name": "python"
    }
  },
  "cells": [
    {
      "cell_type": "markdown",
      "source": [
        "**Muhammad Asim Riaz**\n",
        "**Reg.No:FA20-BSE-001**\n",
        "**SECTION A**\n",
        "\n",
        "**Activity 1**\n",
        "Display numbers on screen using Python IDLE.\n",
        "\n"
      ],
      "metadata": {
        "id": "uMprY33DxNHi"
      }
    },
    {
      "cell_type": "code",
      "execution_count": null,
      "metadata": {
        "colab": {
          "base_uri": "https://localhost:8080/"
        },
        "id": "6dqwfT2yuBRL",
        "outputId": "8874045b-fe1e-4f1b-eba5-9833662f7990"
      },
      "outputs": [
        {
          "output_type": "stream",
          "name": "stdout",
          "text": [
            "Hello world\n",
            "24\n",
            "4.2\n",
            "234\n",
            "45.9\n"
          ]
        }
      ],
      "source": [
        "print(\"Hello world\")\n",
        "print(\"24\")\n",
        "print(4.2)\n",
        "print(234)\n",
        "print(45.90)"
      ]
    },
    {
      "cell_type": "markdown",
      "source": [
        "**Activity 2**\n",
        "Display strings on screen"
      ],
      "metadata": {
        "id": "c-QYniSkw3PU"
      }
    },
    {
      "cell_type": "code",
      "source": [
        "print('Hello')\n",
        "print('Quote me on this !')\n",
        "print(\"What’s your name?\")\n",
        "print(\"'You can use triple quote for multilines uses '\")"
      ],
      "metadata": {
        "colab": {
          "base_uri": "https://localhost:8080/"
        },
        "id": "ILGoZCkFw-H7",
        "outputId": "d492f740-15f1-4ba0-cea7-e65938f226c0"
      },
      "execution_count": null,
      "outputs": [
        {
          "output_type": "stream",
          "name": "stdout",
          "text": [
            "Hello\n",
            "Quote me on this !\n",
            "What’s your name?\n",
            "'You can use triple quote for multilines uses '\n"
          ]
        }
      ]
    },
    {
      "cell_type": "code",
      "source": [],
      "metadata": {
        "id": "TgxYIoWPvTKA"
      },
      "execution_count": null,
      "outputs": []
    },
    {
      "cell_type": "markdown",
      "source": [
        "**Activity 3**\n",
        "Use Python as a calculator.\n"
      ],
      "metadata": {
        "id": "wC905KHiySYn"
      }
    },
    {
      "cell_type": "code",
      "source": [
        "print(2+2)\n",
        "print(50-4)\n",
        "print(23-18.5)\n",
        "print(5*6)\n",
        "print(2.5 * 10)\n",
        "print(2.5 * 10)\n",
        "print( 2.5 * 2.5)\n",
        "print(28/4)\n",
        "print(26/4)\n",
        "print(23.4 / 3.1)"
      ],
      "metadata": {
        "colab": {
          "base_uri": "https://localhost:8080/"
        },
        "id": "2vM5t8uHynC6",
        "outputId": "3305a11a-965c-49ce-e00e-d4664ca18743"
      },
      "execution_count": null,
      "outputs": [
        {
          "output_type": "stream",
          "name": "stdout",
          "text": [
            "4\n",
            "46\n",
            "4.5\n",
            "30\n",
            "25.0\n",
            "25.0\n",
            "6.25\n",
            "7.0\n",
            "6.5\n",
            "7.548387096774193\n"
          ]
        }
      ]
    },
    {
      "cell_type": "markdown",
      "source": [
        "**Activity 4**\n",
        "Get an integer answer from division operation."
      ],
      "metadata": {
        "id": "U8Nfe0qK0FK0"
      }
    },
    {
      "cell_type": "code",
      "source": [
        "print(28 // 4)\n",
        "print( 26 // 4 )\n",
        "print(type(int(26/4)))\n",
        "print(type(int(28/4)))\n",
        "print(26%4)\n",
        "print(28%4)"
      ],
      "metadata": {
        "colab": {
          "base_uri": "https://localhost:8080/"
        },
        "id": "E-9FxOEG0RF7",
        "outputId": "7e4cd4da-f07c-4ef3-b57a-ff16458cb22b"
      },
      "execution_count": null,
      "outputs": [
        {
          "output_type": "stream",
          "name": "stdout",
          "text": [
            "7\n",
            "6\n",
            "<class 'int'>\n",
            "<class 'int'>\n",
            "2\n",
            "0\n"
          ]
        }
      ]
    },
    {
      "cell_type": "markdown",
      "source": [
        "**Activity 5**\n",
        "Calculate the power values"
      ],
      "metadata": {
        "id": "UoS7k2ER14v5"
      }
    },
    {
      "cell_type": "code",
      "source": [
        "print(4**3)\n",
        "print(4**10)\n",
        "print(4**29)\n",
        "print(4**150)\n",
        "print(4**1000)"
      ],
      "metadata": {
        "colab": {
          "base_uri": "https://localhost:8080/"
        },
        "id": "nEmsOuS12KJ5",
        "outputId": "5f766dcf-81f6-4e0b-c9b0-d7bd1ac30c53"
      },
      "execution_count": null,
      "outputs": [
        {
          "output_type": "stream",
          "name": "stdout",
          "text": [
            "64\n",
            "1048576\n",
            "288230376151711744\n",
            "2037035976334486086268445688409378161051468393665936250636140449354381299763336706183397376\n",
            "114813069527425452423283320117768198402231770208869520047764273682576626139237031385665948631650626991844596463898746277344711896086305533142593135616665318539129989145312280000688779148240044871428926990063486244781615463646388363947317026040466353970904996558162398808944629605623311649536164221970332681344168908984458505602379484807914058900934776500429002716706625830522008132236281291761267883317206598995396418127021779858404042159853183251540889433902091920554957783589672039160081957216630582755380425583726015528348786419432054508915275783882625175435528800822842770817965453762184851149029376\n"
          ]
        }
      ]
    },
    {
      "cell_type": "markdown",
      "source": [
        "**Activity 6:**\n",
        "Math Experssion"
      ],
      "metadata": {
        "id": "f0rRpFtm3CO5"
      }
    },
    {
      "cell_type": "code",
      "source": [
        "print(2+3*6)\n",
        "print((2+3)*6)\n",
        "print(48565878 * 578453)\n",
        "print(2 + 2)\n",
        "# print((5 – 1) * ((7 + 1) / (3 – 1)))\n",
        "print(5 +7)\n",
        "print(42 + 5 ** 2)"
      ],
      "metadata": {
        "colab": {
          "base_uri": "https://localhost:8080/"
        },
        "id": "PpcorrYY3OcO",
        "outputId": "9b9f8333-0b2f-4157-90b6-3d719c048df3"
      },
      "execution_count": null,
      "outputs": [
        {
          "output_type": "stream",
          "name": "stdout",
          "text": [
            "20\n",
            "30\n",
            "28093077826734\n",
            "4\n",
            "12\n",
            "67\n"
          ]
        }
      ]
    },
    {
      "cell_type": "markdown",
      "source": [
        "Activity 7:\n",
        "Combine numbers and text.\n",
        "\n"
      ],
      "metadata": {
        "id": "9v05NYOs4QIM"
      }
    },
    {
      "cell_type": "code",
      "source": [
        "x=\"nancy\"\n",
        "print(x)\n",
        "s=\"my lucky number is %d,what is your?\"%7\n",
        "print(s)\n",
        "s=\"my lucky number is \" +str(7) + \", what is your number?\"\n",
        "print(s)"
      ],
      "metadata": {
        "colab": {
          "base_uri": "https://localhost:8080/"
        },
        "id": "GQBmCjRn4UE3",
        "outputId": "446f6984-ffe8-45cc-8c0f-c176bd882f4e"
      },
      "execution_count": null,
      "outputs": [
        {
          "output_type": "stream",
          "name": "stdout",
          "text": [
            "nancy\n",
            "my lucky number is 7,what is your?\n",
            "my lucky number is 7, what is your number?\n"
          ]
        }
      ]
    },
    {
      "cell_type": "markdown",
      "source": [
        "**Activity 8**\n",
        "Take input from the keyboard and use it in your program.\n",
        "\n"
      ],
      "metadata": {
        "id": "x-PrcAY65NdD"
      }
    },
    {
      "cell_type": "code",
      "source": [
        "name=input(\"what is your name \")\n",
        "print(\"my name is \" + name)\n",
        "job=input(\"What is your Job \")\n",
        "print(\"my job is \"+job)\n",
        "num=input(\"What is your lucky number \")\n",
        "print(\"my lucky number is \"+num)"
      ],
      "metadata": {
        "colab": {
          "base_uri": "https://localhost:8080/"
        },
        "id": "ViFnYbhD5avc",
        "outputId": "96d31f98-fc06-4879-91f4-c9a2bc56325b"
      },
      "execution_count": null,
      "outputs": [
        {
          "output_type": "stream",
          "name": "stdout",
          "text": [
            "what is your name asim\n",
            "my name is asim\n",
            "What is your Job software engineer\n",
            "my job is software engineer\n",
            "What is your lucky number 3\n",
            "my lucky number is 3\n"
          ]
        }
      ]
    }
  ]
}