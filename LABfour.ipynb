{
  "cells": [
    {
      "cell_type": "code",
      "execution_count": null,
      "metadata": {
        "id": "g2ynmOUztgDL"
      },
      "outputs": [],
      "source": []
    },
    {
      "cell_type": "markdown",
      "metadata": {
        "id": "baFexZ8gxHwV"
      },
      "source": [
        "**Activity 1**\n",
        "Use loops to accept 5 values from user and store them in a list. Display all the values (objects) of the list."
      ]
    },
    {
      "cell_type": "code",
      "execution_count": null,
      "metadata": {
        "colab": {
          "base_uri": "https://localhost:8080/"
        },
        "id": "-HXXE87GxNBt",
        "outputId": "80002010-831f-473a-8873-4ec5a91fe239"
      },
      "outputs": [
        {
          "name": "stdout",
          "output_type": "stream",
          "text": [
            "Enter 5 numbers1\n",
            "Enter 5 numbers2\n",
            "Enter 5 numbers3\n",
            "Enter 5 numbers4\n",
            "Enter 5 numbers5\n",
            "The List is\n",
            "['1', '2', '3', '4', '5']\n"
          ]
        }
      ],
      "source": [
        "mylist=[]\n",
        "for i in range(5):\n",
        "    val=input(\"Enter 5 numbers\")\n",
        "    mylist.append(val)\n",
        "print(\"The List is\")\n",
        "print(mylist)"
      ]
    },
    {
      "cell_type": "markdown",
      "metadata": {
        "id": "4l5eDeJYzdcA"
      },
      "source": [
        "**Activity 2**\n",
        "Repeat the above code by accepting 5 integer values from user. Store these values in a list and display the sum of given values"
      ]
    },
    {
      "cell_type": "code",
      "execution_count": null,
      "metadata": {
        "colab": {
          "base_uri": "https://localhost:8080/"
        },
        "id": "bdieb2O8zkfd",
        "outputId": "96d2e3db-3546-4545-deff-9d80e9925937"
      },
      "outputs": [
        {
          "name": "stdout",
          "output_type": "stream",
          "text": [
            "Enter 5 numbers3\n",
            "Enter 5 numbers4\n",
            "Enter 5 numbers5\n",
            "Enter 5 numbers6\n",
            "Enter 5 numbers7\n",
            "The sum number is 25\n"
          ]
        }
      ],
      "source": [
        "mylist=[]\n",
        "for i in range(5):\n",
        "  val=input(\"Enter 5 numbers\")\n",
        "  n=int(val)\n",
        "  mylist.append(n)\n",
        "sum=0\n",
        "for n in mylist:\n",
        "  sum=sum+n\n",
        "print(\"The sum number is\",sum)\n",
        "\n"
      ]
    },
    {
      "cell_type": "markdown",
      "metadata": {
        "id": "vx0Cfclf1EhV"
      },
      "source": [
        "**Activity 3**"
      ]
    },
    {
      "cell_type": "code",
      "execution_count": null,
      "metadata": {
        "colab": {
          "base_uri": "https://localhost:8080/"
        },
        "id": "3lLOP9U81QsR",
        "outputId": "c1fd3b5e-947a-4766-a370-8c42cf16f8d1"
      },
      "outputs": [
        {
          "name": "stdout",
          "output_type": "stream",
          "text": [
            "Enter 5 numbers1\n",
            "Enter 5 numbers2\n",
            "Enter 5 numbers3\n",
            "Enter 5 numbers4\n",
            "Enter 5 numbers5\n",
            "[5, 4, 3, 2, 1]\n"
          ]
        }
      ],
      "source": [
        "mylist=[]\n",
        "for i in range(5):\n",
        "  val=input(\"Enter 5 numbers\")\n",
        "  n=int(val)\n",
        "  mylist.append(n)\n",
        "a=sorted(mylist,reverse=True)\n",
        "print(a)"
      ]
    },
    {
      "cell_type": "markdown",
      "metadata": {
        "id": "HMjDYVh842MA"
      },
      "source": [
        "**Activity 4**"
      ]
    },
    {
      "cell_type": "code",
      "execution_count": null,
      "metadata": {
        "colab": {
          "base_uri": "https://localhost:8080/"
        },
        "id": "x1pVvoWM481Y",
        "outputId": "0651a018-8e9c-43b8-afaf-13972a317bd4"
      },
      "outputs": [
        {
          "name": "stdout",
          "output_type": "stream",
          "text": [
            "Enter 5 numbers1\n",
            "Enter 5 numbers4\n",
            "Enter 5 numbers5\n",
            "Enter 5 numbers7\n",
            "Enter 5 numbers8\n",
            "8\n"
          ]
        }
      ],
      "source": [
        "mylist=[]\n",
        "for i in range(5):\n",
        "  val=input(\"Enter 5 numbers\")\n",
        "  n=int(val)\n",
        "  mylist.append(n)\n",
        "a=max(mylist)\n",
        "print(a)"
      ]
    },
    {
      "cell_type": "markdown",
      "metadata": {
        "id": "DtNoTnCZ5rXN"
      },
      "source": [
        "**Activity 5**\n"
      ]
    },
    {
      "cell_type": "code",
      "execution_count": null,
      "metadata": {
        "colab": {
          "base_uri": "https://localhost:8080/"
        },
        "id": "aZ77OjsG55hQ",
        "outputId": "571ea036-6d0e-463b-ffe2-341ad393a523"
      },
      "outputs": [
        {
          "name": "stdout",
          "output_type": "stream",
          "text": [
            "Enter 5 numbers4\n",
            "Enter 5 numbers5\n",
            "Enter 5 numbers2\n",
            "Enter 5 numbers6\n",
            "Enter 5 numbers7\n",
            "2\n"
          ]
        }
      ],
      "source": [
        "mylist=[]\n",
        "for i in range(5):\n",
        "  val=input(\"Enter 5 numbers\")\n",
        "  n=int(val)\n",
        "  mylist.append(n)\n",
        "a=min(mylist)\n",
        "print(a)"
      ]
    },
    {
      "cell_type": "markdown",
      "metadata": {
        "id": "zpyP9jfJ7_cU"
      },
      "source": [
        "**Activity 6**"
      ]
    },
    {
      "cell_type": "code",
      "execution_count": null,
      "metadata": {
        "colab": {
          "base_uri": "https://localhost:8080/"
        },
        "id": "Ut8H-nSR8CQM",
        "outputId": "a841cd95-e517-4896-9224-7895891008b5"
      },
      "outputs": [
        {
          "name": "stdout",
          "output_type": "stream",
          "text": [
            "Enter 5 numbers2\n",
            "Enter 5 numbers3\n",
            "Enter 5 numbers4\n",
            "Enter 5 numbers5\n",
            "Enter 5 numbers2\n",
            "Enter 5 numbers4\n",
            "Enter 5 numbers3\n",
            "Enter 5 numbers5\n",
            "Enter 5 numbers6\n",
            "Enter 5 numbers8\n",
            "[2, 3, 4, 5, 2, 4, 3, 5, 6, 8]\n"
          ]
        }
      ],
      "source": [
        "mylist1=[]\n",
        "for i in range(5):\n",
        "  val=input(\"Enter 5 numbers for list 2:\")\n",
        "  n=int(val)\n",
        "  mylist1.append(n)\n",
        "\n",
        "mylist2=[]\n",
        "for i in range(5):\n",
        "  val=input(\"Enter 5 numbers for list 2:\")\n",
        "  n=int(val)\n",
        "  mylist2.append(n)\n",
        "list3=mylist1+mylist2\n",
        "print(list3)"
      ]
    },
    {
      "cell_type": "markdown",
      "metadata": {
        "id": "u7jR_xtX987z"
      },
      "source": [
        "**Activity 7**"
      ]
    },
    {
      "cell_type": "code",
      "execution_count": null,
      "metadata": {
        "id": "KQWHbN4q-Aa4"
      },
      "outputs": [],
      "source": [
        "mylist1=[]\n",
        "for i in range(5):\n",
        "  val=input(\"Enter 5 numbers \")\n",
        "  n=int(val)\n",
        "  mylist1.append(n)\n",
        "print(mylist1)\n",
        "s=input(\"Enter number which want to find\")\n",
        "n=int(s)\n",
        "found=n in mylist1\n",
        "if found==true:\n",
        "  print(\"Found\")\n",
        "else:\n",
        "  print(\"Not Found\")"
      ]
    },
    {
      "cell_type": "markdown",
      "metadata": {
        "id": "hryM2ePUBhWR"
      },
      "source": [
        "Activity 8"
      ]
    },
    {
      "cell_type": "code",
      "execution_count": null,
      "metadata": {
        "colab": {
          "background_save": true,
          "base_uri": "https://localhost:8080/"
        },
        "id": "6jNcycWTBjWk",
        "outputId": "eb2fb528-7160-4dcf-e404-ec99fcad4055"
      },
      "outputs": [
        {
          "name": "stdout",
          "output_type": "stream",
          "text": [
            "Hello asim\n",
            "Hello riaz\n",
            "Hello sohail\n"
          ]
        }
      ],
      "source": [
        "def say_helo(name):\n",
        "  print(\"Hello\",name)\n",
        "for i in range(3):\n",
        "  s=input(\"Enter name :\")\n",
        "  say_helo(s)\n"
      ]
    }
  ],
  "metadata": {
    "colab": {
      "provenance": []
    },
    "kernelspec": {
      "display_name": "Python 3",
      "name": "python3"
    },
    "language_info": {
      "name": "python"
    }
  },
  "nbformat": 4,
  "nbformat_minor": 0
}