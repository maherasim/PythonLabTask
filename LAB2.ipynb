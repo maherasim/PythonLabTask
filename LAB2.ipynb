{
  "nbformat": 4,
  "nbformat_minor": 0,
  "metadata": {
    "colab": {
      "provenance": []
    },
    "kernelspec": {
      "name": "python3",
      "display_name": "Python 3"
    },
    "language_info": {
      "name": "python"
    }
  },
  "cells": [
    {
      "cell_type": "markdown",
      "source": [
        "**Activity 8:**\n",
        "\n",
        "Imagine two matrices given in the form of 2D lists as under;"
      ],
      "metadata": {
        "id": "PO8GrxVJfNcf"
      }
    },
    {
      "cell_type": "code",
      "execution_count": null,
      "metadata": {
        "colab": {
          "base_uri": "https://localhost:8080/"
        },
        "id": "MlNMLeSOLwra",
        "outputId": "bd1ce988-11de-407d-bba3-a39c9ea5e07d"
      },
      "outputs": [
        {
          "output_type": "stream",
          "name": "stdout",
          "text": [
            "[[1, 2, 3], [4, 5, 6], [7, 8, 9]]\n"
          ]
        }
      ],
      "source": [
        "a = [[1, 0, 0], [0, 1, 0], [0, 0, 1] ]\n",
        "b = [[1, 2, 3], [4, 5, 6], [7, 8, 9] ]\n",
        "c = [] \n",
        "\n",
        "for indrow in range(3):\n",
        "    c.append([])\n",
        "    for indcol in range(3):\n",
        "        c[indrow].append(0)\n",
        "        for indaux in range(3):\n",
        "            c[indrow][indcol] += a[indrow][indaux] * b[indaux][indcol]\n",
        "\n",
        "print(c)\n"
      ]
    },
    {
      "cell_type": "markdown",
      "source": [
        "**Activity 9**"
      ],
      "metadata": {
        "id": "Uh9sKWXUfTMY"
      }
    },
    {
      "cell_type": "code",
      "source": [
        "import math\n",
        "\n",
        "def polygon_perimeter(coords):\n",
        "    # Find the number of vertices\n",
        "    n = len(coords)\n",
        "    # Initialize the perimeter variable\n",
        "    perimeter = 0\n",
        "    # Loop through all vertices\n",
        "    for i in range(n):\n",
        "        # Calculate the distance between this vertex and the next vertex\n",
        "        x1, y1 = coords[i]\n",
        "        x2, y2 = coords[(i+1) % n]\n",
        "        side_length = math.sqrt((x2-x1)**2 + (y2-y1)**2)\n",
        "        # Add the length of the side to the perimeter\n",
        "        perimeter += side_length\n",
        "    return perimeter\n",
        "\n"
      ],
      "metadata": {
        "id": "wCYT-zOAgcUJ"
      },
      "execution_count": null,
      "outputs": []
    }
  ]
}