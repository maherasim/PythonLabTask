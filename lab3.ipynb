{
  "nbformat": 4,
  "nbformat_minor": 0,
  "metadata": {
    "colab": {
      "provenance": []
    },
    "kernelspec": {
      "name": "python3",
      "display_name": "Python 3"
    },
    "language_info": {
      "name": "python"
    }
  },
  "cells": [
    {
      "cell_type": "markdown",
      "source": [
        "**Muhammad Asim Riaz**\n",
        "\n",
        "\n",
        "**Activity 9** **bold text**\n",
        "Let us take an integer from user as input and check whether the given value is even or not.*[link text](https://)italicized text*"
      ],
      "metadata": {
        "id": "eo_klhQYx9KJ"
      }
    },
    {
      "cell_type": "code",
      "source": [
        "n=input(\"Enter any number\")\n",
        "if int(n)%2==0:\n",
        "  print(\"The Given Number is Even\")\n"
      ],
      "metadata": {
        "colab": {
          "base_uri": "https://localhost:8080/"
        },
        "id": "ypsL3dNcyDx_",
        "outputId": "d147390c-b2c3-4081-9c2c-4f376d70cebc"
      },
      "execution_count": null,
      "outputs": [
        {
          "output_type": "stream",
          "name": "stdout",
          "text": [
            "Enter any number4\n",
            "The Given Number is Even\n"
          ]
        }
      ]
    },
    {
      "cell_type": "markdown",
      "source": [
        "**Ativity 10**\n",
        "take an integer from user as input and check whether the given value is even or odd"
      ],
      "metadata": {
        "id": "Xp86490U99JQ"
      }
    },
    {
      "cell_type": "code",
      "source": [
        "n=input(\"Enter any number\")\n",
        "if int(n)%2==0:\n",
        "  print(\"The Given Number is Even\")\n",
        "else:\n",
        " print(\"The Number is Odd\")"
      ],
      "metadata": {
        "colab": {
          "base_uri": "https://localhost:8080/"
        },
        "id": "FSNo4Gcf-JXP",
        "outputId": "2d27b5f4-c292-4ad8-b95b-b5e72a25b54e"
      },
      "execution_count": null,
      "outputs": [
        {
          "output_type": "stream",
          "name": "stdout",
          "text": [
            "Enter any number3\n",
            "The Number is Odd\n"
          ]
        }
      ]
    },
    {
      "cell_type": "markdown",
      "source": [
        "**Activity 11**\n",
        "Calculate the sum of all the values between 0-10 using while loop.\n"
      ],
      "metadata": {
        "id": "FnPEHWl5-jEP"
      }
    },
    {
      "cell_type": "code",
      "source": [
        "sum=0\n",
        "i=1\n",
        "while i<=10:\n",
        "    sum=sum+i\n",
        "    i=i+1\n",
        "print(\"Sum is\",sum)"
      ],
      "metadata": {
        "colab": {
          "base_uri": "https://localhost:8080/"
        },
        "id": "b7u-QYQp-pLX",
        "outputId": "b87a035f-9088-4c69-fa58-189517230642"
      },
      "execution_count": null,
      "outputs": [
        {
          "output_type": "stream",
          "name": "stdout",
          "text": [
            "Sum is 55\n"
          ]
        }
      ]
    },
    {
      "cell_type": "markdown",
      "source": [
        "**Activity 12**\n",
        "Accept 5 integer values from user and display their sum. Draw flowchart before coding in python."
      ],
      "metadata": {
        "id": "n3LFfhVvBWGN"
      }
    },
    {
      "cell_type": "code",
      "source": [
        "sum=0\n",
        "i=0\n",
        "while i<=4:\n",
        "  s=input(\"Enter 5 input\")\n",
        "  n=int(s)\n",
        "  sum=sum+n\n",
        "  i=i+1\n",
        "print(\"Sum of 5 number is\",sum)"
      ],
      "metadata": {
        "colab": {
          "base_uri": "https://localhost:8080/"
        },
        "id": "hvKOS56wBeN-",
        "outputId": "5c9613b7-95e5-4ce3-a890-c05ad2b00845"
      },
      "execution_count": null,
      "outputs": [
        {
          "output_type": "stream",
          "name": "stdout",
          "text": [
            "Enter 5 input5\n",
            "Enter 5 input4\n",
            "Enter 5 input6\n",
            "Enter 5 input7\n",
            "Enter 5 input3\n",
            "Sum of 5 number is 25\n"
          ]
        }
      ]
    },
    {
      "cell_type": "markdown",
      "source": [
        "**Activity 13**\n",
        "Write a Python code to keep accepting integer values from user until 0 is entered. Display sum of the given values"
      ],
      "metadata": {
        "id": "N-xYbutNDDOe"
      }
    },
    {
      "cell_type": "code",
      "source": [
        "sum = 0  \n",
        "\n",
        "while True:\n",
        "    num = int(input(\"Enter an integer\"))\n",
        "    if num == 0:\n",
        "        break \n",
        "    sum += num  \n",
        "\n",
        "print(\"The sum of the entered values is:\", sum)\n"
      ],
      "metadata": {
        "colab": {
          "base_uri": "https://localhost:8080/"
        },
        "id": "-2CxiLflDKb1",
        "outputId": "a6c945fe-36a8-4565-bc76-4b5c73b72142"
      },
      "execution_count": null,
      "outputs": [
        {
          "output_type": "stream",
          "name": "stdout",
          "text": [
            "Enter an integer3\n",
            "Enter an integer34\n",
            "Enter an integer0\n",
            "The sum of the entered values is: 37\n"
          ]
        }
      ]
    },
    {
      "cell_type": "markdown",
      "source": [
        "**Activity 14**\n",
        "Write a Python code to accept an integer value from user and check that whether the given value is prime number or not."
      ],
      "metadata": {
        "id": "edDJNmy2DxMu"
      }
    },
    {
      "cell_type": "code",
      "source": [
        "num = int(input(\"Enter an integer: \"))\n",
        "\n",
        "if num > 1:\n",
        "    for i in range(2, num):\n",
        "        if num % i == 0:\n",
        "            print(num, \"is not a prime number\")\n",
        "            break\n",
        "    else:\n",
        "        print(num, \"is a prime number\")\n",
        "else:\n",
        "    print(num, \"is not a prime number\")\n"
      ],
      "metadata": {
        "colab": {
          "base_uri": "https://localhost:8080/"
        },
        "id": "yeCZGXuaEJKf",
        "outputId": "c5a63876-6ba5-43ff-fb9f-22c34eea9577"
      },
      "execution_count": null,
      "outputs": [
        {
          "output_type": "stream",
          "name": "stdout",
          "text": [
            "Enter an integer: 13\n",
            "13 is a prime number\n"
          ]
        }
      ]
    },
    {
      "cell_type": "markdown",
      "source": [
        "**Activity 15:**\n",
        "Write a Python code to accept marks of a student from 1-100 and display the grade according to the following formula."
      ],
      "metadata": {
        "id": "zv6BRgbnEPV9"
      }
    },
    {
      "cell_type": "code",
      "source": [
        "marks = int(input(\"Enter marks (out of 100): \"))\n",
        "\n",
        "if marks > 100 or marks < 0:\n",
        "    print(\"Invalid input! Please enter marks between 0 and 100.\")\n",
        "elif marks >= 90:\n",
        "    print(\"Grade: A+\")\n",
        "elif marks >= 80:\n",
        "    print(\"Grade: A\")\n",
        "elif marks >= 70:\n",
        "    print(\"Grade: B+\")\n",
        "elif marks >= 60:\n",
        "    print(\"Grade: B\")\n",
        "elif marks >= 50:\n",
        "    print(\"Grade: C+\")\n",
        "elif marks >= 40:\n",
        "    print(\"Grade: C\")\n",
        "else:\n",
        "    print(\"Grade: F\")\n"
      ],
      "metadata": {
        "colab": {
          "base_uri": "https://localhost:8080/"
        },
        "id": "IAz6zsa1EeNJ",
        "outputId": "409b176a-e780-4ff2-9b17-b61838e0a049"
      },
      "execution_count": null,
      "outputs": [
        {
          "output_type": "stream",
          "name": "stdout",
          "text": [
            "Enter marks (out of 100): 78\n",
            "Grade: B+\n"
          ]
        }
      ]
    },
    {
      "cell_type": "markdown",
      "source": [
        "**Activity 16:**\n",
        "Write a program that takes a number from user and calculate the factorial of that number."
      ],
      "metadata": {
        "id": "UDHyStTeElZG"
      }
    },
    {
      "cell_type": "code",
      "source": [
        "num = int(input(\"Enter a positive integer: \"))\n",
        "\n",
        "if num == 0 or num == 1:\n",
        "    factorial = 1\n",
        "else:\n",
        "    factorial = 1\n",
        "    # multiply all the integers from 1 to num\n",
        "    for i in range(2, num+1):\n",
        "        factorial *= i\n",
        "\n",
        "print(\"Factorial of\", num, \"is\", factorial)\n"
      ],
      "metadata": {
        "colab": {
          "base_uri": "https://localhost:8080/"
        },
        "id": "qBvFnfi-ErFh",
        "outputId": "46afa900-13f9-4f17-d459-ff4dd08eb47c"
      },
      "execution_count": null,
      "outputs": [
        {
          "output_type": "stream",
          "name": "stdout",
          "text": [
            "Enter a positive integer: 34\n",
            "Factorial of 34 is 295232799039604140847618609643520000000\n"
          ]
        }
      ]
    }
  ]
}